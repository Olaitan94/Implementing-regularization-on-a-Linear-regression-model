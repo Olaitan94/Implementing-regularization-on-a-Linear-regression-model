{
 "cells": [
  {
   "cell_type": "code",
   "execution_count": 280,
   "id": "5de98547",
   "metadata": {},
   "outputs": [
    {
     "name": "stdout",
     "output_type": "stream",
     "text": [
      "(506, 14)\n"
     ]
    },
    {
     "data": {
      "text/html": [
       "<div>\n",
       "<style scoped>\n",
       "    .dataframe tbody tr th:only-of-type {\n",
       "        vertical-align: middle;\n",
       "    }\n",
       "\n",
       "    .dataframe tbody tr th {\n",
       "        vertical-align: top;\n",
       "    }\n",
       "\n",
       "    .dataframe thead th {\n",
       "        text-align: right;\n",
       "    }\n",
       "</style>\n",
       "<table border=\"1\" class=\"dataframe\">\n",
       "  <thead>\n",
       "    <tr style=\"text-align: right;\">\n",
       "      <th></th>\n",
       "      <th>CRIM</th>\n",
       "      <th>ZN</th>\n",
       "      <th>INDUS</th>\n",
       "      <th>CHAS</th>\n",
       "      <th>NOX</th>\n",
       "      <th>RM</th>\n",
       "      <th>AGE</th>\n",
       "      <th>DIS</th>\n",
       "      <th>RAD</th>\n",
       "      <th>TAX</th>\n",
       "      <th>PTRATIO</th>\n",
       "      <th>B</th>\n",
       "      <th>LSTAT</th>\n",
       "      <th>MEDV</th>\n",
       "    </tr>\n",
       "  </thead>\n",
       "  <tbody>\n",
       "    <tr>\n",
       "      <th>0</th>\n",
       "      <td>0.006</td>\n",
       "      <td>18.000</td>\n",
       "      <td>2.310</td>\n",
       "      <td>0</td>\n",
       "      <td>0.538</td>\n",
       "      <td>6.575</td>\n",
       "      <td>65.200</td>\n",
       "      <td>4.090</td>\n",
       "      <td>1</td>\n",
       "      <td>296.000</td>\n",
       "      <td>15.300</td>\n",
       "      <td>396.900</td>\n",
       "      <td>4.980</td>\n",
       "      <td>24.000</td>\n",
       "    </tr>\n",
       "    <tr>\n",
       "      <th>1</th>\n",
       "      <td>0.027</td>\n",
       "      <td>0.000</td>\n",
       "      <td>7.070</td>\n",
       "      <td>0</td>\n",
       "      <td>0.469</td>\n",
       "      <td>6.421</td>\n",
       "      <td>78.900</td>\n",
       "      <td>4.967</td>\n",
       "      <td>2</td>\n",
       "      <td>242.000</td>\n",
       "      <td>17.800</td>\n",
       "      <td>396.900</td>\n",
       "      <td>9.140</td>\n",
       "      <td>21.600</td>\n",
       "    </tr>\n",
       "    <tr>\n",
       "      <th>2</th>\n",
       "      <td>0.027</td>\n",
       "      <td>0.000</td>\n",
       "      <td>7.070</td>\n",
       "      <td>0</td>\n",
       "      <td>0.469</td>\n",
       "      <td>7.185</td>\n",
       "      <td>61.100</td>\n",
       "      <td>4.967</td>\n",
       "      <td>2</td>\n",
       "      <td>242.000</td>\n",
       "      <td>17.800</td>\n",
       "      <td>392.830</td>\n",
       "      <td>4.030</td>\n",
       "      <td>34.700</td>\n",
       "    </tr>\n",
       "    <tr>\n",
       "      <th>3</th>\n",
       "      <td>0.032</td>\n",
       "      <td>0.000</td>\n",
       "      <td>2.180</td>\n",
       "      <td>0</td>\n",
       "      <td>0.458</td>\n",
       "      <td>6.998</td>\n",
       "      <td>45.800</td>\n",
       "      <td>6.062</td>\n",
       "      <td>3</td>\n",
       "      <td>222.000</td>\n",
       "      <td>18.700</td>\n",
       "      <td>394.630</td>\n",
       "      <td>2.940</td>\n",
       "      <td>33.400</td>\n",
       "    </tr>\n",
       "    <tr>\n",
       "      <th>4</th>\n",
       "      <td>0.069</td>\n",
       "      <td>0.000</td>\n",
       "      <td>2.180</td>\n",
       "      <td>0</td>\n",
       "      <td>0.458</td>\n",
       "      <td>7.147</td>\n",
       "      <td>54.200</td>\n",
       "      <td>6.062</td>\n",
       "      <td>3</td>\n",
       "      <td>222.000</td>\n",
       "      <td>18.700</td>\n",
       "      <td>396.900</td>\n",
       "      <td>5.330</td>\n",
       "      <td>36.200</td>\n",
       "    </tr>\n",
       "  </tbody>\n",
       "</table>\n",
       "</div>"
      ],
      "text/plain": [
       "   CRIM     ZN  INDUS  CHAS   NOX    RM    AGE   DIS  RAD     TAX  PTRATIO  \\\n",
       "0 0.006 18.000  2.310     0 0.538 6.575 65.200 4.090    1 296.000   15.300   \n",
       "1 0.027  0.000  7.070     0 0.469 6.421 78.900 4.967    2 242.000   17.800   \n",
       "2 0.027  0.000  7.070     0 0.469 7.185 61.100 4.967    2 242.000   17.800   \n",
       "3 0.032  0.000  2.180     0 0.458 6.998 45.800 6.062    3 222.000   18.700   \n",
       "4 0.069  0.000  2.180     0 0.458 7.147 54.200 6.062    3 222.000   18.700   \n",
       "\n",
       "        B  LSTAT   MEDV  \n",
       "0 396.900  4.980 24.000  \n",
       "1 396.900  9.140 21.600  \n",
       "2 392.830  4.030 34.700  \n",
       "3 394.630  2.940 33.400  \n",
       "4 396.900  5.330 36.200  "
      ]
     },
     "execution_count": 280,
     "metadata": {},
     "output_type": "execute_result"
    }
   ],
   "source": [
    "import pandas as pd\n",
    "from sklearn.model_selection import train_test_split\n",
    "from sklearn.linear_model import LinearRegression, Ridge, Lasso\n",
    "from sklearn.preprocessing import MinMaxScaler\n",
    "from sklearn.metrics import mean_squared_error\n",
    "from matplotlib import pyplot as plt\n",
    "import numpy as np\n",
    "from sklearn.model_selection import learning_curve\n",
    "\n",
    "data = pd.read_csv('housing (1).csv', header = None, delimiter = r\"\\s+\", names = ['CRIM', 'ZN', 'INDUS', 'CHAS', 'NOX', 'RM', \n",
    " 'AGE', 'DIS', 'RAD', 'TAX', 'PTRATIO', 'B', 'LSTAT', 'MEDV'])\n",
    "print(data.shape)\n",
    "data.head(5)\n"
   ]
  },
  {
   "cell_type": "code",
   "execution_count": 281,
   "id": "67b61c4a",
   "metadata": {},
   "outputs": [],
   "source": [
    "features = data.iloc[:,:13]\n",
    "price = data.iloc[:,13]"
   ]
  },
  {
   "cell_type": "markdown",
   "id": "4b649463",
   "metadata": {},
   "source": [
    "### Scale the features"
   ]
  },
  {
   "cell_type": "code",
   "execution_count": 282,
   "id": "d9e19968",
   "metadata": {},
   "outputs": [],
   "source": [
    "scaler = MinMaxScaler()\n",
    "scaled_features = scaler.fit_transform(features)"
   ]
  },
  {
   "cell_type": "markdown",
   "id": "7d9a82ab",
   "metadata": {},
   "source": [
    "### Split dataset into training and test set (80/20)"
   ]
  },
  {
   "cell_type": "code",
   "execution_count": 283,
   "id": "c2139076",
   "metadata": {},
   "outputs": [],
   "source": [
    "x_train, x_test, y_train, y_test = train_test_split(scaled_features, price, test_size = 0.2 )"
   ]
  },
  {
   "cell_type": "markdown",
   "id": "2d8c0abf",
   "metadata": {},
   "source": [
    "### Predict price with simple linear regression "
   ]
  },
  {
   "cell_type": "code",
   "execution_count": 284,
   "id": "8e9d7053",
   "metadata": {},
   "outputs": [
    {
     "data": {
      "text/plain": [
       "array([ -5.89054334,   5.02371329,   1.3764924 ,   1.49701303,\n",
       "        -8.32120102,  20.76603776,  -0.73988585, -15.97165477,\n",
       "         6.02936551,  -6.10519704,  -9.3978146 ,   4.14356797,\n",
       "       -17.59333774])"
      ]
     },
     "execution_count": 284,
     "metadata": {},
     "output_type": "execute_result"
    }
   ],
   "source": [
    "lr = LinearRegression()\n",
    "lr.fit(x_train,y_train)\n",
    "predicted_price_lr = lr.predict(x_test)\n",
    "#check out the coefficients for this model, θ1, θ2, θ3, ....θ13\n",
    "feature_coef_lr = lr.coef_\n",
    "feature_coef_lr"
   ]
  },
  {
   "cell_type": "code",
   "execution_count": 285,
   "id": "bf67d47e",
   "metadata": {},
   "outputs": [
    {
     "data": {
      "text/plain": [
       "25.71637273296131"
      ]
     },
     "execution_count": 285,
     "metadata": {},
     "output_type": "execute_result"
    }
   ],
   "source": [
    "#check the coefficient,θo, for this model\n",
    "intercept_lr = lr.intercept_\n",
    "intercept_lr"
   ]
  },
  {
   "cell_type": "code",
   "execution_count": 286,
   "id": "53997690",
   "metadata": {},
   "outputs": [
    {
     "data": {
      "text/plain": [
       "26.19604103221738"
      ]
     },
     "execution_count": 286,
     "metadata": {},
     "output_type": "execute_result"
    }
   ],
   "source": [
    "#find the MSE\n",
    "mse_lr = mean_squared_error(y_test,predicted_price_lr)\n",
    "mse_lr"
   ]
  },
  {
   "cell_type": "markdown",
   "id": "ea81808c",
   "metadata": {},
   "source": [
    "### Predict price with ridge regression"
   ]
  },
  {
   "cell_type": "code",
   "execution_count": 287,
   "id": "1443e3e4",
   "metadata": {},
   "outputs": [
    {
     "data": {
      "text/plain": [
       "array([ -3.34246764,   4.07387723,   0.4257987 ,   1.71810703,\n",
       "        -6.490114  ,  18.76202127,  -0.65186377, -12.56428504,\n",
       "         4.65360781,  -4.91735593,  -9.21790896,   4.24208654,\n",
       "       -17.11621387])"
      ]
     },
     "execution_count": 287,
     "metadata": {},
     "output_type": "execute_result"
    }
   ],
   "source": [
    "ridge_reg = Ridge()\n",
    "ridge_reg.fit(x_train,y_train)\n",
    "predicted_price_ridge = ridge_reg.predict(x_test)\n",
    "#check out the coefficients for this model, θ1, θ2, θ3, ....θ13\n",
    "feature_coef_ridge = ridge_reg.coef_\n",
    "feature_coef_ridge\n"
   ]
  },
  {
   "cell_type": "code",
   "execution_count": 288,
   "id": "eaf54272",
   "metadata": {},
   "outputs": [
    {
     "data": {
      "text/plain": [
       "25.261662242787978"
      ]
     },
     "execution_count": 288,
     "metadata": {},
     "output_type": "execute_result"
    }
   ],
   "source": [
    "#check the coefficient,θo, for this model\n",
    "intercept_ridge = ridge_reg.intercept_\n",
    "intercept_ridge"
   ]
  },
  {
   "cell_type": "code",
   "execution_count": 289,
   "id": "b23afaef",
   "metadata": {},
   "outputs": [
    {
     "data": {
      "text/plain": [
       "27.500274756814175"
      ]
     },
     "execution_count": 289,
     "metadata": {},
     "output_type": "execute_result"
    }
   ],
   "source": [
    "#find the MSE\n",
    "mse_ridge = mean_squared_error(y_test,predicted_price_ridge)\n",
    "mse_ridge"
   ]
  },
  {
   "cell_type": "markdown",
   "id": "ba575012",
   "metadata": {},
   "source": [
    "### Predict price with Lasso regression"
   ]
  },
  {
   "cell_type": "code",
   "execution_count": 290,
   "id": "817bb352",
   "metadata": {},
   "outputs": [
    {
     "data": {
      "text/plain": [
       "array([-0.        ,  0.        , -0.        ,  0.        , -0.        ,\n",
       "        0.        , -0.        ,  0.        , -0.        , -1.38628446,\n",
       "       -0.        ,  0.        , -5.9616485 ])"
      ]
     },
     "execution_count": 290,
     "metadata": {},
     "output_type": "execute_result"
    }
   ],
   "source": [
    "lasso_reg = Lasso()\n",
    "lasso_reg.fit(x_train,y_train)\n",
    "predicted_price_lasso = lasso_reg.predict(x_test)\n",
    "#check out the coefficients for this model, θ1, θ2, θ3, ....θ13\n",
    "feature_coef_lasso = lasso_reg.coef_\n",
    "feature_coef_lasso\n"
   ]
  },
  {
   "cell_type": "code",
   "execution_count": 291,
   "id": "2ea0731d",
   "metadata": {},
   "outputs": [
    {
     "data": {
      "text/plain": [
       "80.39291633165416"
      ]
     },
     "execution_count": 291,
     "metadata": {},
     "output_type": "execute_result"
    }
   ],
   "source": [
    "#find the MSE for the Lasso regression model\n",
    "mse_lasso = mean_squared_error(y_test,predicted_price_lasso)\n",
    "mse_lasso"
   ]
  },
  {
   "cell_type": "markdown",
   "id": "41a30a7c",
   "metadata": {},
   "source": [
    "## Comparing the coefficients obtained for the different techniques"
   ]
  },
  {
   "cell_type": "code",
   "execution_count": 292,
   "id": "a9c99fb1",
   "metadata": {},
   "outputs": [
    {
     "data": {
      "image/png": "[encoded data removed]",
      "text/plain": [
       "<Figure size 432x288 with 1 Axes>"
      ]
     },
     "metadata": {
      "needs_background": "light"
     },
     "output_type": "display_data"
    }
   ],
   "source": [
    "column_names = ['CRIM', 'ZN', 'INDUS', 'CHAS', 'NOX', 'RM', 'AGE', 'DIS', 'RAD', 'TAX', 'PTRATIO', 'B', 'LSTAT']\n",
    "\n",
    "x_values = np.arange(len(column_names))\n",
    "width = 0.25\n",
    "\n",
    "plt.bar(x_values,feature_coef_lr,width, label = 'Linear Regression')\n",
    "plt.bar(x_values + width,feature_coef_ridge, width, label = 'Ridge Regression')\n",
    "plt.bar(x_values + width*2,feature_coef_lasso, width, label = 'Lasso Regression')\n",
    "plt.xticks(x_values,column_names,rotation = 45)\n",
    "plt.title('Coefficients/Weight of Features')\n",
    "plt.legend()\n",
    "plt.show()"
   ]
  },
  {
   "cell_type": "markdown",
   "id": "38ddea66",
   "metadata": {},
   "source": [
    "From the plot, we can observe that the linear regression modelhas the highest value for all the coefficients. With ridge regression using a regularization parameter of 1, the coefficients for all the features are slightly reduced. \n",
    "However, for lasso regression with a regularization parameter of 1, almost all the coefficients are forced to zero."
   ]
  },
  {
   "cell_type": "markdown",
   "id": "ab1985de",
   "metadata": {},
   "source": [
    "## Analysing the effect of regularization parameter on the coefficients"
   ]
  },
  {
   "cell_type": "code",
   "execution_count": 303,
   "id": "33128aff",
   "metadata": {},
   "outputs": [
    {
     "data": {
      "image/png": "[encoded data removed]",
      "text/plain": [
       "<Figure size 432x288 with 1 Axes>"
      ]
     },
     "metadata": {
      "needs_background": "light"
     },
     "output_type": "display_data"
    }
   ],
   "source": [
    "#Using alpha = 5 for the ride regression\n",
    "ridge_reg = Ridge(alpha = 5)\n",
    "ridge_reg.fit(x_train,y_train)\n",
    "coef_ridge = ridge_reg.coef_\n",
    "\n",
    "#Using alpha = 0.5 for the ride regression\n",
    "lasso_reg = Lasso(alpha=0.2)\n",
    "lasso_reg.fit(x_train,y_train)\n",
    "coef_lasso = lasso_reg.coef_\n",
    "\n",
    "#plotting the new coefficients \n",
    "column_names = ['CRIM', 'ZN', 'INDUS', 'CHAS', 'NOX', 'RM', 'AGE', 'DIS', 'RAD', 'TAX', 'PTRATIO', 'B', 'LSTAT']\n",
    "\n",
    "x_values = np.arange(len(column_names))\n",
    "width = 0.25\n",
    "\n",
    "plt.bar(x_values,feature_coef_lr,width, label = 'Linear Regression')\n",
    "plt.bar(x_values + width, coef_ridge,width, label = 'Ridge Regression')\n",
    "plt.bar(x_values + width*2,coef_lasso, width, label = 'Lasso Regression')\n",
    "plt.xticks(x_values,column_names,rotation = 45)\n",
    "plt.title('Coefficients/Weight of Features')\n",
    "plt.legend()\n",
    "plt.show()\n"
   ]
  },
  {
   "cell_type": "markdown",
   "id": "de241ddc",
   "metadata": {},
   "source": [
    "From the plot, we can see that increasing the regularization parameter for the ride regression model resulted in the coefficients being reduced more.\n",
    "On the other hand, reducing the parameter for the Lasso model lessened the regularization effect on the coefficients and increased the complexity of the model."
   ]
  },
  {
   "cell_type": "markdown",
   "id": "f5d34c37",
   "metadata": {},
   "source": [
    "## Analysing the Learning Curves for the three models"
   ]
  },
  {
   "cell_type": "markdown",
   "id": "2b00bf55",
   "metadata": {},
   "source": [
    "For a well fit model with enough data, the training error would start from zero and continue to increase while the validation error would start from a very high value and then continue to decrease. As the training set increases and the model learns with more data, the the training error and the validation error will start to stabilize and converge towards each other. "
   ]
  },
  {
   "cell_type": "code",
   "execution_count": 308,
   "id": "bab9a627",
   "metadata": {},
   "outputs": [
    {
     "data": {
      "image/png": "[encoded data removed]",
      "text/plain": [
       "<Figure size 432x288 with 1 Axes>"
      ]
     },
     "metadata": {
      "needs_background": "light"
     },
     "output_type": "display_data"
    }
   ],
   "source": [
    "#For linear regression model\n",
    "#compare the learning curves for training & testing \n",
    "\n",
    "#pd.set_option('display.float_format', lambda x: '%.3f' % x)\n",
    "\n",
    "train_sizes = [1,50,100,150,200,250,300,350,404]\n",
    "\n",
    "train_sizes, train_scores, validation_scores = learning_curve(estimator = LinearRegression(), X = scaled_features, \n",
    "                                                              y = price, train_sizes = train_sizes, cv = 5,\n",
    "scoring = 'neg_mean_squared_error')\n",
    "train_scores_mean = -train_scores.mean(axis = 1)\n",
    "validation_scores_mean = -validation_scores.mean(axis = 1)\n",
    "validation_series = pd.Series(validation_scores_mean, index = train_sizes)\n",
    "train_series = pd.Series(train_scores_mean, index = train_sizes)\n",
    "\n",
    "plt.plot(train_sizes, train_scores_mean, label = 'Training error')\n",
    "plt.plot(train_sizes, validation_scores_mean, label = 'Validation error')\n",
    "plt.ylabel('MSE', fontsize = 14)\n",
    "plt.xlabel('Training set size', fontsize = 14)\n",
    "plt.title('Learning curves for a Linear Regression Model')\n",
    "plt.legend()\n",
    "plt.ylim(0,200)\n",
    "plt.show()\n"
   ]
  },
  {
   "cell_type": "markdown",
   "id": "fde126d4",
   "metadata": {},
   "source": [
    "The learning curve for the linear regression model shows the usual trend at the beginning, i.e. training error increases and validation error reduces. With more training data, the training error seems to start stabilizing. The validation error reduces towards the training error but does not stabilize and both error curves do not converge. \n",
    "It would seem like the training data is not enough to train the linear regression model."
   ]
  },
  {
   "cell_type": "code",
   "execution_count": 309,
   "id": "1c3e75ed",
   "metadata": {},
   "outputs": [
    {
     "data": {
      "image/png": "[encoded data removed]",
      "text/plain": [
       "<Figure size 432x288 with 1 Axes>"
      ]
     },
     "metadata": {
      "needs_background": "light"
     },
     "output_type": "display_data"
    }
   ],
   "source": [
    "#For ridge regression model\n",
    "#compare the learning curves for training & testing \n",
    "\n",
    "#pd.set_option('display.float_format', lambda x: '%.3f' % x)\n",
    "\n",
    "train_sizes = [1,50,100,150,200,250,300,350,404]\n",
    "\n",
    "train_sizes, train_scores, validation_scores = learning_curve(estimator = Ridge(alpha = 1), X = scaled_features, \n",
    "                                                              y = price, train_sizes = train_sizes, cv = 5,\n",
    "scoring = 'neg_mean_squared_error')\n",
    "train_scores_mean = -train_scores.mean(axis = 1)\n",
    "validation_scores_mean = -validation_scores.mean(axis = 1)\n",
    "validation_series = pd.Series(validation_scores_mean, index = train_sizes)\n",
    "train_series = pd.Series(train_scores_mean, index = train_sizes)\n",
    "plt.plot(train_sizes, train_scores_mean, label = 'Training error')\n",
    "plt.plot(train_sizes, validation_scores_mean, label = 'Validation error')\n",
    "plt.ylabel('MSE', fontsize = 14)\n",
    "plt.xlabel('Training set size', fontsize = 14)\n",
    "plt.title('Learning curves for the Ridge Regression Model')\n",
    "plt.ylim(0,200)\n",
    "plt.legend()\n",
    "plt.show()\n"
   ]
  },
  {
   "cell_type": "markdown",
   "id": "240ffd24",
   "metadata": {},
   "source": [
    "The learning curve for the ridge regression model shows the usual trend at the beginning, i.e. training error increases and validation error reduces. With more training data,both the training and validation errors and start to stabilise but never fully stabilize or converge.\n",
    "The training error is quite low, which shows that the model has low bias but because there is still a large gap between both errors, the model might be overfitting.\n",
    "Adding more training data or tuning the regularization parameter can increase the performance of this model."
   ]
  },
  {
   "cell_type": "code",
   "execution_count": 311,
   "id": "b450d545",
   "metadata": {},
   "outputs": [
    {
     "name": "stderr",
     "output_type": "stream",
     "text": [
      "C:\\Users\\ASUS\\anaconda3.0\\lib\\site-packages\\sklearn\\linear_model\\_coordinate_descent.py:530: ConvergenceWarning: Objective did not converge. You might want to increase the number of iterations. Duality gap: 0.0, tolerance: 0.0\n",
      "  model = cd_fast.enet_coordinate_descent(\n",
      "C:\\Users\\ASUS\\anaconda3.0\\lib\\site-packages\\sklearn\\linear_model\\_coordinate_descent.py:530: ConvergenceWarning: Objective did not converge. You might want to increase the number of iterations. Duality gap: 0.0, tolerance: 0.0\n",
      "  model = cd_fast.enet_coordinate_descent(\n",
      "C:\\Users\\ASUS\\anaconda3.0\\lib\\site-packages\\sklearn\\linear_model\\_coordinate_descent.py:530: ConvergenceWarning: Objective did not converge. You might want to increase the number of iterations. Duality gap: 0.0, tolerance: 0.0\n",
      "  model = cd_fast.enet_coordinate_descent(\n",
      "C:\\Users\\ASUS\\anaconda3.0\\lib\\site-packages\\sklearn\\linear_model\\_coordinate_descent.py:530: ConvergenceWarning: Objective did not converge. You might want to increase the number of iterations. Duality gap: 0.0, tolerance: 0.0\n",
      "  model = cd_fast.enet_coordinate_descent(\n",
      "C:\\Users\\ASUS\\anaconda3.0\\lib\\site-packages\\sklearn\\linear_model\\_coordinate_descent.py:530: ConvergenceWarning: Objective did not converge. You might want to increase the number of iterations. Duality gap: 0.0, tolerance: 0.0\n",
      "  model = cd_fast.enet_coordinate_descent(\n"
     ]
    },
    {
     "data": {
      "image/png": "[encoded data removed]",
      "text/plain": [
       "<Figure size 432x288 with 1 Axes>"
      ]
     },
     "metadata": {
      "needs_background": "light"
     },
     "output_type": "display_data"
    }
   ],
   "source": [
    "#For lasso regression model\n",
    "#compare the learning curves for training & testing \n",
    "\n",
    "#pd.set_option('display.float_format', lambda x: '%.3f' % x)\n",
    "\n",
    "train_sizes = [1,50,100,150,200,250,300,350,404]\n",
    "\n",
    "train_sizes, train_scores, validation_scores = learning_curve(estimator = Lasso(), X = scaled_features, \n",
    "y = price, train_sizes = train_sizes, cv = 5,scoring = 'neg_mean_squared_error')\n",
    "train_scores_mean = -train_scores.mean(axis = 1)\n",
    "validation_scores_mean = -validation_scores.mean(axis = 1)\n",
    "validation_series = pd.Series(validation_scores_mean, index = train_sizes)\n",
    "train_series = pd.Series(train_scores_mean, index = train_sizes)\n",
    "plt.plot(train_sizes, train_scores_mean, label = 'Training error')\n",
    "plt.plot(train_sizes, validation_scores_mean, label = 'Validation error')\n",
    "plt.ylabel('MSE', fontsize = 14)\n",
    "plt.xlabel('Training set size', fontsize = 14)\n",
    "plt.title('Learning curves for the Lasso Regression Model')\n",
    "plt.legend()\n",
    "plt.ylim(0,200)\n",
    "plt.show()\n"
   ]
  },
  {
   "cell_type": "markdown",
   "id": "1d64824e",
   "metadata": {},
   "source": [
    "The learning curve for the lasso regression model shows that the model has high bias (the training error is quite high) and both errors do not stabilize or converge. \n",
    "This could be because the regularization parameter is too large and almost all the coefficients have been forced to zero. So the model is to simple. To improve this model, you can try smaller values of alpha."
   ]
  }
 ],
 "metadata": {
  "kernelspec": {
   "display_name": "Python 3 (ipykernel)",
   "language": "python",
   "name": "python3"
  },
  "language_info": {
   "codemirror_mode": {
    "name": "ipython",
    "version": 3
   },
   "file_extension": ".py",
   "mimetype": "text/x-python",
   "name": "python",
   "nbconvert_exporter": "python",
   "pygments_lexer": "ipython3",
   "version": "3.9.7"
  }
 },
 "nbformat": 4,
 "nbformat_minor": 5
}
